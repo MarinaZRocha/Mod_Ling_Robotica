{
  "nbformat": 4,
  "nbformat_minor": 0,
  "metadata": {
    "colab": {
      "provenance": [],
      "include_colab_link": true
    },
    "kernelspec": {
      "name": "python3",
      "display_name": "Python 3"
    },
    "language_info": {
      "name": "python"
    }
  },
  "cells": [
    {
      "cell_type": "markdown",
      "metadata": {
        "id": "view-in-github",
        "colab_type": "text"
      },
      "source": [
        "<a href=\"https://colab.research.google.com/github/MarinaZRocha/Mod_Ling_Robotica/blob/main/E02_Mod_ling_179741.ipynb\" target=\"_parent\"><img src=\"https://colab.research.google.com/assets/colab-badge.svg\" alt=\"Open In Colab\"/></a>"
      ]
    },
    {
      "cell_type": "markdown",
      "source": [
        "## Universidade Federal do Rio Grande (FURG)\n",
        "### Programa de Pós-Graduação em Computação (PPGComp)\n",
        "#### Disciplina: ModLing para Robótica 2025\n",
        "##### Prof. Rodrigo da Silva Guerra\n",
        "##### E02: Sistema de Recomendação usando Word2Vec"
      ],
      "metadata": {
        "id": "JdJg89a3zX79"
      }
    },
    {
      "cell_type": "markdown",
      "source": [
        "### Descrição do Exercício\n",
        "\n",
        "Neste exercício, o objetivo é construir um sistema de recomendação de produtos com base no histórico de compras de um e-commerce. A premissa é que a sequência de produtos adquiridos por um cliente em uma única transação possui uma relação semântica. Por exemplo, um cliente que compra itens para uma festa de aniversário provavelmente selecionará produtos relacionados a esse tema. Utilizaremos o algoritmo Word2Vec para capturar essas relações, tratando cada produto como uma \"palavra\" e cada compra (carrinho de compras) como uma \"frase\".\n",
        "\n",
        "Você baixará a base de dados e deverá realizar todo o processo de tratamento, treinamento do modelo e implementação das funcionalidades de recomendação.\n",
        "\n",
        "### Instruções\n",
        "\n",
        "O exercício é demonstrado [nessa videoaula](https://youtu.be/PKOGlgVhS_A), mas você é encorajado a tentar implementar por conta própria.\n",
        "\n",
        "1.  **Carregamento e Pré-processamento dos Dados:**\n",
        "    * Faça o download do arquivo [`retail.xlsx`](https://drive.google.com/uc?id=1NK-2z0l-qTplDJJ2SHpTVBGRP3zWAK-n).\n",
        "    * Carregue os dados em um DataFrame do Pandas.\n",
        "    * Realize a limpeza dos dados, removendo registros com valores nulos.\n",
        "    * Converta a coluna de códigos de produtos (`StockCode`) para o formato de string.\n",
        "\n",
        "2.  **Criação do Dicionário de Produtos:**\n",
        "    * Crie um dicionário Python que mapeie os códigos dos produtos (`StockCode`) às suas respectivas descrições (`Description`). Este dicionário será utilizado para a interpretação dos resultados, permitindo a visualização das descrições dos produtos recomendados.\n",
        "\n",
        "3.  **Preparação dos Dados para Treinamento:**\n",
        "    * O histórico de compras de cada cliente deve ser tratado como uma \"frase\", onde cada produto é uma \"palavra\". Agrupe os produtos por cada `InvoiceNo`, criando uma lista de listas, onde cada lista interna representa uma compra.\n",
        "\n",
        "4.  **Treinamento do Modelo Word2Vec:**\n",
        "    * Utilize a biblioteca `gensim` para treinar um modelo Word2Vec com as \"frases\" (compras) criadas no passo anterior.\n",
        "\n",
        "5.  **Desenvolvimento das Funções de Recomendação:**\n",
        "    * **Função 1: Produtos Similares**\n",
        "        * Implemente uma função que, ao receber um código de produto, retorne uma lista dos produtos mais similares, com base no espaço latente aprendido pelo Word2Vec. A função deve exibir a descrição do produto de entrada e as descrições dos produtos mais similares, juntamente com seus respectivos scores de similaridade.\n",
        "    * **Função 2: Recomendação por Carrinho de Compras**\n",
        "        * Implemente uma função que receba uma lista de códigos de produtos (simulando um carrinho de compras).\n",
        "        * Calcule o vetor médio de embedding para os produtos presentes no carrinho.\n",
        "        * Utilize o vetor médio para encontrar os produtos mais próximos no espaço de embedding, que serão as recomendações.\n",
        "        * A função deve retornar uma lista com as descrições dos produtos recomendados, excluindo aqueles que já estão no carrinho, e seus respectivos scores de similaridade.\n",
        "\n",
        "### Código Inicial"
      ],
      "metadata": {
        "id": "e_sY7YcZzb_r"
      }
    },
    {
      "cell_type": "code",
      "execution_count": 1,
      "metadata": {
        "id": "A4C3d-r9zY31",
        "colab": {
          "base_uri": "https://localhost:8080/"
        },
        "outputId": "282f7ce9-68d7-46d1-fcc2-82a271889045"
      },
      "outputs": [
        {
          "output_type": "stream",
          "name": "stdout",
          "text": [
            "Downloading...\n",
            "From: https://drive.google.com/uc?id=1NK-2z0l-qTplDJJ2SHpTVBGRP3zWAK-n\n",
            "To: /content/retail.xlsx\n",
            "100% 23.7M/23.7M [00:00<00:00, 43.0MB/s]\n"
          ]
        }
      ],
      "source": [
        "# Código para baixar os dados\n",
        "!gdown https://drive.google.com/uc?id=1NK-2z0l-qTplDJJ2SHpTVBGRP3zWAK-n"
      ]
    },
    {
      "cell_type": "code",
      "source": [
        "import pandas as pd\n",
        "import numpy as np\n"
      ],
      "metadata": {
        "id": "VLeeAhiRE6xq"
      },
      "execution_count": 2,
      "outputs": []
    },
    {
      "cell_type": "code",
      "source": [
        "df = pd.read_excel('retail.xlsx')\n"
      ],
      "metadata": {
        "id": "fFhJPB_n8AZ1"
      },
      "execution_count": 3,
      "outputs": []
    },
    {
      "cell_type": "code",
      "source": [
        "df.dropna(inplace=True)"
      ],
      "metadata": {
        "id": "e866xFWMFZW3"
      },
      "execution_count": 4,
      "outputs": []
    },
    {
      "cell_type": "code",
      "source": [
        "product_dict = dict(zip(df['StockCode'], df['Description']))"
      ],
      "metadata": {
        "id": "YOzZuHGU7W7v"
      },
      "execution_count": 5,
      "outputs": []
    },
    {
      "cell_type": "code",
      "source": [
        "product_dict['10123C']"
      ],
      "metadata": {
        "colab": {
          "base_uri": "https://localhost:8080/",
          "height": 36
        },
        "id": "ihV5cz_78EUF",
        "outputId": "9a777990-9a00-45c3-f172-bc01ce46d805"
      },
      "execution_count": 6,
      "outputs": [
        {
          "output_type": "execute_result",
          "data": {
            "text/plain": [
              "'HEARTS WRAPPING TAPE '"
            ],
            "application/vnd.google.colaboratory.intrinsic+json": {
              "type": "string"
            }
          },
          "metadata": {},
          "execution_count": 6
        }
      ]
    },
    {
      "cell_type": "code",
      "source": [
        "customers = df['CustomerID'].unique().tolist()\n",
        "len(customers)"
      ],
      "metadata": {
        "colab": {
          "base_uri": "https://localhost:8080/"
        },
        "id": "C5XI5ykiBTJb",
        "outputId": "bd8396de-bb68-4922-c54b-da2664ce56f2"
      },
      "execution_count": 7,
      "outputs": [
        {
          "output_type": "execute_result",
          "data": {
            "text/plain": [
              "4372"
            ]
          },
          "metadata": {},
          "execution_count": 7
        }
      ]
    },
    {
      "cell_type": "code",
      "source": [
        "def client_history(customer_id):\n",
        "\n",
        "  purchases = []\n",
        "  tt_history = df.groupby([\"CustomerID\", \"InvoiceNo\"])['StockCode'].apply(list).reset_index()\n",
        "  for client in customer_id:\n",
        "    purchase = tt_history.groupby(['CustomerID'])['StockCode'].apply(list)\n",
        "    purchases.append(purchase)\n",
        "\n",
        "  #purchases = tt_history.groupby(['CustomerID'])['StockCode'].apply(list).tolist()\n",
        "  return purchases\n"
      ],
      "metadata": {
        "id": "b2gTn35PCSrw"
      },
      "execution_count": 25,
      "outputs": []
    },
    {
      "cell_type": "code",
      "source": [
        "client_history(customers)"
      ],
      "metadata": {
        "id": "qG5ad12PD2z5"
      },
      "execution_count": null,
      "outputs": []
    }
  ]
}